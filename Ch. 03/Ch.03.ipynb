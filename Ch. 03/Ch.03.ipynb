{
 "cells": [
  {
   "cell_type": "markdown",
   "metadata": {},
   "source": [
    "### Topics \n",
    "\n",
    "- an introduction to robust and popular algorithms for classification, such as logistic regression, support vector machine, and decision trees\n",
    "- examples and explanations using the scikit-learn machine learning library, which provides a wide variety of machine learning algorithms via a user-firendly Python API\n",
    "- strengths and weaknesses of classifiers with linear and nonlinear decision boundaries"
   ]
  },
  {
   "cell_type": "markdown",
   "metadata": {},
   "source": [
    "### Five Main Steps in Training a Supervised Machine Learning Algorithm\n",
    "\n",
    "- Selecting a feature and collecting labeled training examples\n",
    "- Choosing a Performance Metric\n",
    "- Choosing a classifier and optimization algorithm\n",
    "- Evaluating the performance of the model\n",
    "- Tuning the algorithm"
   ]
  },
  {
   "cell_type": "code",
   "execution_count": 104,
   "metadata": {},
   "outputs": [],
   "source": [
    "# Iris Dataset\n",
    "# X : petal length, petal width \n",
    "# y : flower species \n",
    "\n",
    "import numpy as np\n",
    "import pandas as pd\n",
    "import sklearn\n",
    "from sklearn.datasets import load_iris\n",
    "from sklearn.model_selection import train_test_split"
   ]
  },
  {
   "cell_type": "code",
   "execution_count": 105,
   "metadata": {},
   "outputs": [
    {
     "name": "stdout",
     "output_type": "stream",
     "text": [
      "['sepal length (cm)', 'sepal width (cm)', 'petal length (cm)', 'petal width (cm)']\n"
     ]
    }
   ],
   "source": [
    "iris = load_iris()\n",
    "\n",
    "print(iris.feature_names)"
   ]
  },
  {
   "cell_type": "code",
   "execution_count": 106,
   "metadata": {},
   "outputs": [
    {
     "name": "stdout",
     "output_type": "stream",
     "text": [
      "Class Labels :  [0 1 2]\n"
     ]
    }
   ],
   "source": [
    "X = iris.data[:, [2, 3]] # feature data\n",
    "y = iris.target # target data \n",
    "\n",
    "print('Class Labels : ', np.unique(y))"
   ]
  },
  {
   "cell_type": "code",
   "execution_count": 120,
   "metadata": {},
   "outputs": [],
   "source": [
    "# randomly split X and y arrays into 30% test data (45 examples), 70% training data (105 examples)\n",
    "# stratify=y guarantees method retursn training and test subsets with same proportions of class lables\n",
    "\n",
    "X_train, X_test, y_train, y_test = train_test_split(X, y, test_size=0.3, random_state=1, stratify=y)"
   ]
  },
  {
   "cell_type": "code",
   "execution_count": 121,
   "metadata": {},
   "outputs": [],
   "source": [
    "# if stratify not applied \n",
    "\n",
    "X_train, X_test, y_train, y_test = train_test_split(X, y, test_size=0.3, random_state=1)"
   ]
  },
  {
   "cell_type": "code",
   "execution_count": 122,
   "metadata": {},
   "outputs": [
    {
     "name": "stdout",
     "output_type": "stream",
     "text": [
      "Labels Counts in y :  [50 50 50]\n",
      "Labels Counts in y_train :  [36 32 37]\n",
      "Labels Counts in y_test :  [14 18 13]\n"
     ]
    }
   ],
   "source": [
    "print('Labels Counts in y : ', np.bincount(y))\n",
    "print('Labels Counts in y_train : ', np.bincount(y_train))\n",
    "print('Labels Counts in y_test : ', np.bincount(y_test))"
   ]
  },
  {
   "cell_type": "code",
   "execution_count": 123,
   "metadata": {},
   "outputs": [],
   "source": [
    "# if stratify applied \n",
    "\n",
    "X_train, X_test, y_train, y_test = train_test_split(X, y, test_size=0.3, random_state=1, stratify=y)"
   ]
  },
  {
   "cell_type": "code",
   "execution_count": 124,
   "metadata": {},
   "outputs": [
    {
     "name": "stdout",
     "output_type": "stream",
     "text": [
      "Labels Counts in y :  [50 50 50]\n",
      "Labels Counts in y_train :  [35 35 35]\n",
      "Labels Counts in y_test :  [15 15 15]\n"
     ]
    }
   ],
   "source": [
    "print('Labels Counts in y : ', np.bincount(y))\n",
    "print('Labels Counts in y_train : ', np.bincount(y_train))\n",
    "print('Labels Counts in y_test : ', np.bincount(y_test))"
   ]
  },
  {
   "cell_type": "code",
   "execution_count": 127,
   "metadata": {},
   "outputs": [],
   "source": [
    "# Standardize the features using the StandardScaler class from Scikit-learn's preprocessing module\n",
    "# StandardScaler : standardize features by removing the mean and scaling to unit variance\n",
    "\n",
    "from sklearn.preprocessing import StandardScaler"
   ]
  },
  {
   "cell_type": "code",
   "execution_count": 130,
   "metadata": {},
   "outputs": [],
   "source": [
    "sc = StandardScaler() # loaded the StandardScaler class \n",
    "\n",
    "sc.fit(X_train) # StandardScaler estimates the parameters, sample mean and std for each feature dimension\n",
    "\n",
    "# by calling transform method, standardize the training data using those estimated parameters from above \n",
    "X_train_std = sc.transform(X_train)\n",
    "X_test_std = sc.transform(X_test)"
   ]
  },
  {
   "cell_type": "code",
   "execution_count": 131,
   "metadata": {},
   "outputs": [],
   "source": [
    "# multiclass classification, one-ve.-rest (OvR) method\n",
    "from sklearn.linear_model import Perceptron"
   ]
  },
  {
   "cell_type": "code",
   "execution_count": 133,
   "metadata": {},
   "outputs": [
    {
     "data": {
      "text/plain": [
       "Perceptron(alpha=0.0001, class_weight=None, early_stopping=False, eta0=0.1,\n",
       "           fit_intercept=True, max_iter=1000, n_iter_no_change=5, n_jobs=None,\n",
       "           penalty=None, random_state=1, shuffle=True, tol=0.001,\n",
       "           validation_fraction=0.1, verbose=0, warm_start=False)"
      ]
     },
     "execution_count": 133,
     "metadata": {},
     "output_type": "execute_result"
    }
   ],
   "source": [
    "ppn = Perceptron(eta0=0.1, random_state=1)\n",
    "ppn.fit(X_train_std, y_train)"
   ]
  },
  {
   "cell_type": "code",
   "execution_count": 138,
   "metadata": {},
   "outputs": [
    {
     "name": "stdout",
     "output_type": "stream",
     "text": [
      "Misclassified # : 1\n"
     ]
    }
   ],
   "source": [
    "# if the learning rate is too large, the algorithm will overshoot the global cost minimum \n",
    "# if the learning rate is too small, the algorithm will require more epochs until convergence\n",
    "\n",
    "y_pred = ppn.predict(X_test_std)\n",
    "\n",
    "print('Misclassified # : {0}'.format((y_test != y_pred).sum())) # misclassified 1 out of 45 target data , 2.2% "
   ]
  },
  {
   "cell_type": "code",
   "execution_count": 141,
   "metadata": {},
   "outputs": [
    {
     "name": "stdout",
     "output_type": "stream",
     "text": [
      "Accuracy : 0.977778\n"
     ]
    }
   ],
   "source": [
    "# use of accuracy score \n",
    "from sklearn.metrics import accuracy_score\n",
    "print('Accuracy : {0:4f}'.format(accuracy_score(y_test, y_pred)))"
   ]
  },
  {
   "cell_type": "code",
   "execution_count": 143,
   "metadata": {},
   "outputs": [],
   "source": [
    "# Perceptron never converges if the classes are not perfectly linearly separable\n",
    "# overfitting : model captures the patterns in the training data well but fails to generalize well to unseen data"
   ]
  },
  {
   "cell_type": "markdown",
   "metadata": {},
   "source": [
    "### Logistic Regression and Conditional Probabilities\n",
    "- logistic regression is a classification moel that is very easy to implement and performs very well on linearly separable classes\n",
    "- it is one of the most widely used algorithms for classification in industry \n"
   ]
  },
  {
   "cell_type": "code",
   "execution_count": 144,
   "metadata": {},
   "outputs": [],
   "source": [
    "import matplotlib.pyplot as plt"
   ]
  },
  {
   "cell_type": "code",
   "execution_count": 145,
   "metadata": {},
   "outputs": [
    {
     "data": {
      "image/png": "[encoded data removed]",
      "text/plain": [
       "<Figure size 432x288 with 1 Axes>"
      ]
     },
     "metadata": {
      "needs_background": "light"
     },
     "output_type": "display_data"
    }
   ],
   "source": [
    "def sigmoid(z):\n",
    "    return 1.0 / (1.0 + np.exp(-z))\n",
    "\n",
    "z = np.arange(-7, 7, 0.1)\n",
    "phi_z = sigmoid(z)\n",
    "\n",
    "plt.plot(z, phi_z)\n",
    "plt.axvline(0.0, color='k')\n",
    "plt.ylim(-0.1, 1.1)\n",
    "plt.xlabel('z')\n",
    "plt.ylabel('$\\phi (z)$')\n",
    "plt.yticks([0.0, 0.5, 1.0])\n",
    "\n",
    "ax = plt.gca()\n",
    "ax.yaxis.grid(True)\n",
    "plt.tight_layout()\n",
    "plt.show()"
   ]
  },
  {
   "cell_type": "markdown",
   "metadata": {},
   "source": [
    "#### The bias-variance Tradeoff\n",
    "- Variance : measures the consistency of the model prediction for classifying a particular example if we retrain the model multiple times\n",
    "\n",
    "- Bias : measures how far off the predictions are from the correct values in general if we rebuild the model multiple times on different training sets\n",
    "\n",
    "#### Regularization\n",
    "- Regularization is a very useful method for handling collinearity \n",
    "- The concept behind regularization is to introduce additional information (bias) to penalize extereme parameter (weight) values\n",
    "- The most common form of regularization is so-called L2 regularization"
   ]
  },
  {
   "cell_type": "code",
   "execution_count": null,
   "metadata": {},
   "outputs": [],
   "source": []
  },
  {
   "cell_type": "code",
   "execution_count": null,
   "metadata": {},
   "outputs": [],
   "source": []
  },
  {
   "cell_type": "code",
   "execution_count": null,
   "metadata": {},
   "outputs": [],
   "source": []
  },
  {
   "cell_type": "code",
   "execution_count": null,
   "metadata": {},
   "outputs": [],
   "source": []
  }
 ],
 "metadata": {
  "kernelspec": {
   "display_name": "Python 3",
   "language": "python",
   "name": "python3"
  },
  "language_info": {
   "codemirror_mode": {
    "name": "ipython",
    "version": 3
   },
   "file_extension": ".py",
   "mimetype": "text/x-python",
   "name": "python",
   "nbconvert_exporter": "python",
   "pygments_lexer": "ipython3",
   "version": "3.7.4"
  }
 },
 "nbformat": 4,
 "nbformat_minor": 2
}
